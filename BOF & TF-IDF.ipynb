{
 "cells": [
  {
   "cell_type": "code",
   "execution_count": 1,
   "id": "99453130",
   "metadata": {},
   "outputs": [],
   "source": [
    "import nltk\n",
    "from nltk.stem import PorterStemmer\n",
    "from nltk.stem import WordNetLemmatizer\n",
    "from nltk.corpus import stopwords\n",
    "import re"
   ]
  },
  {
   "cell_type": "code",
   "execution_count": 4,
   "id": "f187e5bd",
   "metadata": {},
   "outputs": [],
   "source": [
    "paragraph = \"  I have three visions for India. In 3000 years of our history, people from all over the world have come and invaded us, captured our lands, conquered our minds. From Alexander onwards, the Greeks, the Turks, the Moguls, the Portuguese, the British,the French, the Dutch, all of them came and looted us, took over what was ours. Yet we have not done this to any other nation. We have not conquered anyone. We have not grabbed their land, their culture, their history and tried to enforce our way of life on them. Why? Because we respect the freedom of others.That is why my first vision is that of freedom. I believe that India got its first vision of this in 1857, when we started the War of Independence. It is this freedom thatwe must protect and nurture and build on. If we are not free, no one will respect us.My second vision for India’s development. For fifty years we have been a developing nation.It is time we see ourselves as a developed nation. We are among the top 5 nations of the worldin terms of GDP. We have a 10 percent growth rate in most areas. Our poverty levels are falling.Our achievements are being globally recognised today. Yet we lack the self-confidence tosee ourselves as a developed nation, self-reliant and self-assured. Isn’t this incorrect?I have a third vision. India must stand up to the world. Because I believe that unless India stands up to the world, no one will respect us. Only strength respects strength. We must be strong not only as a military power but also as an economic power. Both must go hand-in-hand. My good fortune was to have worked with three great minds. Dr. Vikram Sarabhai of the Dept. of space, Professor Satish Dhawan, who succeeded him and Dr. Brahm Prakash, father of nuclear material.I was lucky to have worked with all three of them closely and consider this the great opportunity of my life. I see four milestones in my career\""
   ]
  },
  {
   "cell_type": "code",
   "execution_count": 5,
   "id": "5024147f",
   "metadata": {},
   "outputs": [
    {
     "name": "stdout",
     "output_type": "stream",
     "text": [
      "  I have three visions for India. In 3000 years of our history, people from all over the world have come and invaded us, captured our lands, conquered our minds. From Alexander onwards, the Greeks, the Turks, the Moguls, the Portuguese, the British,the French, the Dutch, all of them came and looted us, took over what was ours. Yet we have not done this to any other nation. We have not conquered anyone. We have not grabbed their land, their culture, their history and tried to enforce our way of life on them. Why? Because we respect the freedom of others.That is why my first vision is that of freedom. I believe that India got its first vision of this in 1857, when we started the War of Independence. It is this freedom thatwe must protect and nurture and build on. If we are not free, no one will respect us.My second vision for India’s development. For fifty years we have been a developing nation.It is time we see ourselves as a developed nation. We are among the top 5 nations of the worldin terms of GDP. We have a 10 percent growth rate in most areas. Our poverty levels are falling.Our achievements are being globally recognised today. Yet we lack the self-confidence tosee ourselves as a developed nation, self-reliant and self-assured. Isn’t this incorrect?I have a third vision. India must stand up to the world. Because I believe that unless India stands up to the world, no one will respect us. Only strength respects strength. We must be strong not only as a military power but also as an economic power. Both must go hand-in-hand. My good fortune was to have worked with three great minds. Dr. Vikram Sarabhai of the Dept. of space, Professor Satish Dhawan, who succeeded him and Dr. Brahm Prakash, father of nuclear material.I was lucky to have worked with all three of them closely and consider this the great opportunity of my life. I see four milestones in my career\n"
     ]
    }
   ],
   "source": [
    "print(paragraph)"
   ]
  },
  {
   "cell_type": "code",
   "execution_count": 7,
   "id": "4513a8e5",
   "metadata": {},
   "outputs": [
    {
     "name": "stdout",
     "output_type": "stream",
     "text": [
      "['  I have three visions for India.', 'In 3000 years of our history, people from all over the world have come and invaded us, captured our lands, conquered our minds.', 'From Alexander onwards, the Greeks, the Turks, the Moguls, the Portuguese, the British,the French, the Dutch, all of them came and looted us, took over what was ours.', 'Yet we have not done this to any other nation.', 'We have not conquered anyone.', 'We have not grabbed their land, their culture, their history and tried to enforce our way of life on them.', 'Why?', 'Because we respect the freedom of others.That is why my first vision is that of freedom.', 'I believe that India got its first vision of this in 1857, when we started the War of Independence.', 'It is this freedom thatwe must protect and nurture and build on.', 'If we are not free, no one will respect us.My second vision for India’s development.', 'For fifty years we have been a developing nation.It is time we see ourselves as a developed nation.', 'We are among the top 5 nations of the worldin terms of GDP.', 'We have a 10 percent growth rate in most areas.', 'Our poverty levels are falling.Our achievements are being globally recognised today.', 'Yet we lack the self-confidence tosee ourselves as a developed nation, self-reliant and self-assured.', 'Isn’t this incorrect?I have a third vision.', 'India must stand up to the world.', 'Because I believe that unless India stands up to the world, no one will respect us.', 'Only strength respects strength.', 'We must be strong not only as a military power but also as an economic power.', 'Both must go hand-in-hand.', 'My good fortune was to have worked with three great minds.', 'Dr. Vikram Sarabhai of the Dept.', 'of space, Professor Satish Dhawan, who succeeded him and Dr. Brahm Prakash, father of nuclear material.I was lucky to have worked with all three of them closely and consider this the great opportunity of my life.', 'I see four milestones in my career']\n"
     ]
    }
   ],
   "source": [
    "sentences = nltk.sent_tokenize(paragraph)\n",
    "\n",
    "print(sentences)"
   ]
  },
  {
   "cell_type": "code",
   "execution_count": 17,
   "id": "f1884608",
   "metadata": {},
   "outputs": [],
   "source": [
    "ps = PorterStemmer()\n",
    "wl = WordNetLemmatizer()\n",
    "\n",
    "corpus = []"
   ]
  },
  {
   "cell_type": "code",
   "execution_count": 18,
   "id": "a939071b",
   "metadata": {},
   "outputs": [],
   "source": [
    "for i in range(len(sentences)):\n",
    "    review = re.sub('[^a-zA-Z]' , '',sentences[i])\n",
    "    review = review.lower()\n",
    "    review = review.split()\n",
    "    review = [wl.lemmatize(word) for word in review if word not in set(stopwords.words('english'))]\n",
    "    review = ''.join(review)\n",
    "    corpus.append(review)"
   ]
  },
  {
   "cell_type": "code",
   "execution_count": 19,
   "id": "5bbb61fa",
   "metadata": {},
   "outputs": [
    {
     "name": "stdout",
     "output_type": "stream",
     "text": [
      "['ihavethreevisionsforindia', 'inyearsofourhistorypeoplefromallovertheworldhavecomeandinvadeduscapturedourlandsconqueredourminds', 'fromalexanderonwardsthegreekstheturksthemogulstheportuguesethebritishthefrenchthedutchallofthemcameandlootedustookoverwhatwasours', 'yetwehavenotdonethistoanyothernation', 'wehavenotconqueredanyone', 'wehavenotgrabbedtheirlandtheirculturetheirhistoryandtriedtoenforceourwayoflifeonthem', '', 'becausewerespectthefreedomofothersthatiswhymyfirstvisionisthatoffreedom', 'ibelievethatindiagotitsfirstvisionofthisinwhenwestartedthewarofindependence', 'itisthisfreedomthatwemustprotectandnurtureandbuildon', 'ifwearenotfreenoonewillrespectusmysecondvisionforindiasdevelopment', 'forfiftyyearswehavebeenadevelopingnationitistimeweseeourselvesasadevelopednation', 'weareamongthetopnationsoftheworldintermsofgdp', 'wehaveapercentgrowthrateinmostareas', 'ourpovertylevelsarefallingourachievementsarebeinggloballyrecognisedtoday', 'yetwelacktheselfconfidencetoseeourselvesasadevelopednationselfreliantandselfassured', 'isntthisincorrectihaveathirdvision', 'indiamuststanduptotheworld', 'becauseibelievethatunlessindiastandsuptotheworldnoonewillrespectus', 'onlystrengthrespectsstrength', 'wemustbestrongnotonlyasamilitarypowerbutalsoasaneconomicpower', 'bothmustgohandinhand', 'mygoodfortunewastohaveworkedwiththreegreatminds', 'drvikramsarabhaiofthedept', 'ofspaceprofessorsatishdhawanwhosucceededhimanddrbrahmprakashfatherofnuclearmaterialiwasluckytohaveworkedwithallthreeofthemcloselyandconsiderthisthegreatopportunityofmylife', 'iseefourmilestonesinmycareer']\n"
     ]
    }
   ],
   "source": [
    "print(corpus)"
   ]
  },
  {
   "cell_type": "code",
   "execution_count": 22,
   "id": "a39fbc9a",
   "metadata": {},
   "outputs": [],
   "source": [
    "from sklearn.feature_extraction.text import CountVectorizer\n",
    "\n",
    "cv = CountVectorizer()\n",
    "\n",
    "X = cv.fit_transform(corpus).toarray()"
   ]
  },
  {
   "cell_type": "code",
   "execution_count": 23,
   "id": "18fa5ed0",
   "metadata": {},
   "outputs": [
    {
     "name": "stdout",
     "output_type": "stream",
     "text": [
      "[[0 0 0 0 0 0 0 0 1 0 0 0 0 0 0 0 0 0 0 0 0 0 0 0 0]\n",
      " [0 0 0 0 0 0 0 0 0 0 1 0 0 0 0 0 0 0 0 0 0 0 0 0 0]\n",
      " [0 0 0 0 0 1 0 0 0 0 0 0 0 0 0 0 0 0 0 0 0 0 0 0 0]\n",
      " [0 0 0 0 0 0 0 0 0 0 0 0 0 0 0 0 0 0 0 0 0 0 0 1 0]\n",
      " [0 0 0 0 0 0 0 0 0 0 0 0 0 0 0 0 0 0 0 0 1 0 0 0 0]\n",
      " [0 0 0 0 0 0 0 0 0 0 0 0 0 0 0 0 0 0 0 0 0 1 0 0 0]\n",
      " [0 0 0 0 0 0 0 0 0 0 0 0 0 0 0 0 0 0 0 0 0 0 0 0 0]\n",
      " [0 1 0 0 0 0 0 0 0 0 0 0 0 0 0 0 0 0 0 0 0 0 0 0 0]\n",
      " [0 0 0 0 0 0 1 0 0 0 0 0 0 0 0 0 0 0 0 0 0 0 0 0 0]\n",
      " [0 0 0 0 0 0 0 0 0 0 0 0 0 1 0 0 0 0 0 0 0 0 0 0 0]\n",
      " [0 0 0 0 0 0 0 1 0 0 0 0 0 0 0 0 0 0 0 0 0 0 0 0 0]\n",
      " [0 0 0 0 1 0 0 0 0 0 0 0 0 0 0 0 0 0 0 0 0 0 0 0 0]\n",
      " [0 0 0 0 0 0 0 0 0 0 0 0 0 0 0 0 0 0 1 0 0 0 0 0 0]\n",
      " [0 0 0 0 0 0 0 0 0 0 0 0 0 0 0 0 0 0 0 1 0 0 0 0 0]\n",
      " [0 0 0 0 0 0 0 0 0 0 0 0 0 0 0 0 0 1 0 0 0 0 0 0 0]\n",
      " [0 0 0 0 0 0 0 0 0 0 0 0 0 0 0 0 0 0 0 0 0 0 0 0 1]\n",
      " [0 0 0 0 0 0 0 0 0 0 0 0 1 0 0 0 0 0 0 0 0 0 0 0 0]\n",
      " [0 0 0 0 0 0 0 0 0 1 0 0 0 0 0 0 0 0 0 0 0 0 0 0 0]\n",
      " [1 0 0 0 0 0 0 0 0 0 0 0 0 0 0 0 0 0 0 0 0 0 0 0 0]\n",
      " [0 0 0 0 0 0 0 0 0 0 0 0 0 0 0 0 1 0 0 0 0 0 0 0 0]\n",
      " [0 0 0 0 0 0 0 0 0 0 0 0 0 0 0 0 0 0 0 0 0 0 1 0 0]\n",
      " [0 0 1 0 0 0 0 0 0 0 0 0 0 0 0 0 0 0 0 0 0 0 0 0 0]\n",
      " [0 0 0 0 0 0 0 0 0 0 0 0 0 0 1 0 0 0 0 0 0 0 0 0 0]\n",
      " [0 0 0 1 0 0 0 0 0 0 0 0 0 0 0 0 0 0 0 0 0 0 0 0 0]\n",
      " [0 0 0 0 0 0 0 0 0 0 0 0 0 0 0 1 0 0 0 0 0 0 0 0 0]\n",
      " [0 0 0 0 0 0 0 0 0 0 0 1 0 0 0 0 0 0 0 0 0 0 0 0 0]]\n"
     ]
    }
   ],
   "source": [
    "print(X)"
   ]
  },
  {
   "cell_type": "markdown",
   "id": "00bb043f",
   "metadata": {},
   "source": [
    "# Stemming Process"
   ]
  },
  {
   "cell_type": "code",
   "execution_count": 25,
   "id": "f7ea01bb",
   "metadata": {},
   "outputs": [],
   "source": [
    "for i in range(len(sentences)):\n",
    "    review = re.sub('[^a-zA-Z]' , '',sentences[i])\n",
    "    review = review.lower()\n",
    "    review = review.split()\n",
    "    review = [ps.stem(word) for word in review if word not in set(stopwords.words('english'))]\n",
    "    review = ''.join(review)\n",
    "    corpus.append(review)"
   ]
  },
  {
   "cell_type": "code",
   "execution_count": 26,
   "id": "f35e8a13",
   "metadata": {},
   "outputs": [
    {
     "name": "stdout",
     "output_type": "stream",
     "text": [
      "['ihavethreevisionsforindia', 'inyearsofourhistorypeoplefromallovertheworldhavecomeandinvadeduscapturedourlandsconqueredourminds', 'fromalexanderonwardsthegreekstheturksthemogulstheportuguesethebritishthefrenchthedutchallofthemcameandlootedustookoverwhatwasours', 'yetwehavenotdonethistoanyothernation', 'wehavenotconqueredanyone', 'wehavenotgrabbedtheirlandtheirculturetheirhistoryandtriedtoenforceourwayoflifeonthem', '', 'becausewerespectthefreedomofothersthatiswhymyfirstvisionisthatoffreedom', 'ibelievethatindiagotitsfirstvisionofthisinwhenwestartedthewarofindependence', 'itisthisfreedomthatwemustprotectandnurtureandbuildon', 'ifwearenotfreenoonewillrespectusmysecondvisionforindiasdevelopment', 'forfiftyyearswehavebeenadevelopingnationitistimeweseeourselvesasadevelopednation', 'weareamongthetopnationsoftheworldintermsofgdp', 'wehaveapercentgrowthrateinmostareas', 'ourpovertylevelsarefallingourachievementsarebeinggloballyrecognisedtoday', 'yetwelacktheselfconfidencetoseeourselvesasadevelopednationselfreliantandselfassured', 'isntthisincorrectihaveathirdvision', 'indiamuststanduptotheworld', 'becauseibelievethatunlessindiastandsuptotheworldnoonewillrespectus', 'onlystrengthrespectsstrength', 'wemustbestrongnotonlyasamilitarypowerbutalsoasaneconomicpower', 'bothmustgohandinhand', 'mygoodfortunewastohaveworkedwiththreegreatminds', 'drvikramsarabhaiofthedept', 'ofspaceprofessorsatishdhawanwhosucceededhimanddrbrahmprakashfatherofnuclearmaterialiwasluckytohaveworkedwithallthreeofthemcloselyandconsiderthisthegreatopportunityofmylife', 'iseefourmilestonesinmycareer', 'ihavethreevisionsforindia', 'inyearsofourhistorypeoplefromallovertheworldhavecomeandinvadeduscapturedourlandsconqueredourmind', 'fromalexanderonwardsthegreekstheturksthemogulstheportuguesethebritishthefrenchthedutchallofthemcameandlootedustookoverwhatwasour', 'yetwehavenotdonethistoanyothern', 'wehavenotconqueredanyon', 'wehavenotgrabbedtheirlandtheirculturetheirhistoryandtriedtoenforceourwayoflifeonthem', '', 'becausewerespectthefreedomofothersthatiswhymyfirstvisionisthatoffreedom', 'ibelievethatindiagotitsfirstvisionofthisinwhenwestartedthewarofindepend', 'itisthisfreedomthatwemustprotectandnurtureandbuildon', 'ifwearenotfreenoonewillrespectusmysecondvisionforindiasdevelop', 'forfiftyyearswehavebeenadevelopingnationitistimeweseeourselvesasadevelopedn', 'weareamongthetopnationsoftheworldintermsofgdp', 'wehaveapercentgrowthrateinmostarea', 'ourpovertylevelsarefallingourachievementsarebeinggloballyrecognisedtoday', 'yetwelacktheselfconfidencetoseeourselvesasadevelopednationselfreliantandselfassur', 'isntthisincorrectihaveathirdvis', 'indiamuststanduptotheworld', 'becauseibelievethatunlessindiastandsuptotheworldnoonewillrespectu', 'onlystrengthrespectsstrength', 'wemustbestrongnotonlyasamilitarypowerbutalsoasaneconomicpow', 'bothmustgohandinhand', 'mygoodfortunewastohaveworkedwiththreegreatmind', 'drvikramsarabhaiofthedept', 'ofspaceprofessorsatishdhawanwhosucceededhimanddrbrahmprakashfatherofnuclearmaterialiwasluckytohaveworkedwithallthreeofthemcloselyandconsiderthisthegreatopportunityofmylif', 'iseefourmilestonesinmycar']\n"
     ]
    }
   ],
   "source": [
    "print(corpus)"
   ]
  },
  {
   "cell_type": "code",
   "execution_count": 27,
   "id": "045f8ef7",
   "metadata": {},
   "outputs": [],
   "source": [
    "from sklearn.feature_extraction.text import CountVectorizer\n",
    "\n",
    "cv = CountVectorizer()\n",
    "\n",
    "X = cv.fit_transform(corpus).toarray()"
   ]
  },
  {
   "cell_type": "code",
   "execution_count": 28,
   "id": "5478c016",
   "metadata": {},
   "outputs": [
    {
     "name": "stdout",
     "output_type": "stream",
     "text": [
      "[[0 0 0 ... 0 0 0]\n",
      " [0 0 0 ... 0 0 0]\n",
      " [0 0 0 ... 0 0 0]\n",
      " ...\n",
      " [0 0 0 ... 0 0 0]\n",
      " [0 0 0 ... 0 0 0]\n",
      " [0 0 0 ... 0 0 0]]\n"
     ]
    }
   ],
   "source": [
    "print(X)"
   ]
  },
  {
   "cell_type": "markdown",
   "id": "9acefb5a",
   "metadata": {},
   "source": [
    "# TF/IDF Vectorizer"
   ]
  },
  {
   "cell_type": "code",
   "execution_count": 31,
   "id": "046d54be",
   "metadata": {},
   "outputs": [],
   "source": [
    "for i in range(len(sentences)):\n",
    "    review = re.sub('[^a-zA-Z]' , '',sentences[i])\n",
    "    review = review.lower()\n",
    "    review = review.split()\n",
    "    review = [wl.lemmatize(word) for word in review if word not in set(stopwords.words('english'))]\n",
    "    review = ''.join(review)\n",
    "    corpus.append(review)"
   ]
  },
  {
   "cell_type": "code",
   "execution_count": 32,
   "id": "087cc5a9",
   "metadata": {},
   "outputs": [],
   "source": [
    "from sklearn.feature_extraction.text import TfidfVectorizer\n",
    "\n",
    "cv = CountVectorizer()\n",
    "\n",
    "X = cv.fit_transform(corpus).toarray()"
   ]
  },
  {
   "cell_type": "code",
   "execution_count": 33,
   "id": "01d29d04",
   "metadata": {},
   "outputs": [
    {
     "name": "stdout",
     "output_type": "stream",
     "text": [
      "[[0 0 0 ... 0 0 0]\n",
      " [0 0 0 ... 0 0 0]\n",
      " [0 0 0 ... 0 0 0]\n",
      " ...\n",
      " [0 0 0 ... 0 0 0]\n",
      " [0 0 0 ... 0 0 0]\n",
      " [0 0 0 ... 0 0 0]]\n"
     ]
    }
   ],
   "source": [
    "print(X)"
   ]
  },
  {
   "cell_type": "code",
   "execution_count": null,
   "id": "4a0ed56d",
   "metadata": {},
   "outputs": [],
   "source": []
  },
  {
   "cell_type": "code",
   "execution_count": null,
   "id": "e3f46194",
   "metadata": {},
   "outputs": [],
   "source": []
  },
  {
   "cell_type": "code",
   "execution_count": null,
   "id": "d3fb69d1",
   "metadata": {},
   "outputs": [],
   "source": []
  },
  {
   "cell_type": "code",
   "execution_count": null,
   "id": "f7aa9117",
   "metadata": {},
   "outputs": [],
   "source": []
  },
  {
   "cell_type": "code",
   "execution_count": null,
   "id": "3a259a1f",
   "metadata": {},
   "outputs": [],
   "source": []
  }
 ],
 "metadata": {
  "kernelspec": {
   "display_name": "Python 3 (ipykernel)",
   "language": "python",
   "name": "python3"
  },
  "language_info": {
   "codemirror_mode": {
    "name": "ipython",
    "version": 3
   },
   "file_extension": ".py",
   "mimetype": "text/x-python",
   "name": "python",
   "nbconvert_exporter": "python",
   "pygments_lexer": "ipython3",
   "version": "3.9.11"
  }
 },
 "nbformat": 4,
 "nbformat_minor": 5
}
